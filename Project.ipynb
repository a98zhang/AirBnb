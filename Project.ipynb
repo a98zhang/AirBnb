{
 "cells": [
  {
   "cell_type": "markdown",
   "id": "fc90d53d-d8e7-40c1-bc48-a5df984c5e7e",
   "metadata": {},
   "source": [
    "Key Steps for the Project\n",
    "Feel free to be creative with your solutions, but do follow the CRISP-DM process in finding your solutions.\n",
    "\n",
    "1) Pick a dataset, as mentioned on the previous page.\n",
    "\n",
    "2) Pose at least three questions related to business or real-world applications of how the data could be used.\n",
    "\n",
    "3) Create a Jupyter Notebook, using any associated packages you'd like, to:\n",
    "\n",
    "Prepare data:\n",
    "Gather necessary data to answer your questions\n",
    "Handle categorical and missing data\n",
    "Provide insight into the methods you chose and why you chose them\n",
    "Analyze, Model, and Visualize\n",
    "Provide a clear connection between your business questions and how the data answers them\n",
    "4) Communicate your business insights:\n",
    "\n",
    "Create a Github repository to share your code and data wrangling/modeling techniques, with a technical audience in mind\n",
    "Create a blog post to share your questions and insights with a non-technical audience\n",
    "Project Deliverables\n",
    "There are two deliverables that are required for project completion.\n",
    "\n",
    "A Github repository for your code.\n",
    "A blog post of your findings.\n",
    "Your Github repository must have the following contents:\n",
    "\n",
    "A README.md file that communicates the libraries used, the motivation for the project, the files in the repository with a small description of each, a summary of the results of the analysis, and necessary acknowledgments.\n",
    "Your code in a Jupyter notebook, with appropriate comments, analysis, and documentation.\n",
    "You may also provide any other necessary documentation you find necessary.\n",
    "For the blog post, pick a platform of your own choice. For example, it can be on your website, a Medium post (Josh's sample report on How Do YOU Become A Developer?), or a Github blog post. Your blog must provide the following:\n",
    "\n",
    "A clear and engaging title and image.\n",
    "Your questions of interest.\n",
    "Your findings for those questions with a supporting statistic(s), table, or visual.\n",
    "Note: The post should not dive into technical details or difficulties of the analysis; this should be saved for Github. The post should be understandable for non-technical people from many fields."
   ]
  }
 ],
 "metadata": {
  "kernelspec": {
   "display_name": "Python 3 (ipykernel)",
   "language": "python",
   "name": "python3"
  },
  "language_info": {
   "codemirror_mode": {
    "name": "ipython",
    "version": 3
   },
   "file_extension": ".py",
   "mimetype": "text/x-python",
   "name": "python",
   "nbconvert_exporter": "python",
   "pygments_lexer": "ipython3",
   "version": "3.9.12"
  }
 },
 "nbformat": 4,
 "nbformat_minor": 5
}
